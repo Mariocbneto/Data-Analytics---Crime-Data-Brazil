{
 "cells": [
  {
   "cell_type": "code",
   "execution_count": 2,
   "id": "ab4d213c",
   "metadata": {},
   "outputs": [],
   "source": [
    "import pandas as pd\n",
    "\n",
    "data_2011 = r'../data/BO_2011_2.csv'\n",
    "df = pd.read_csv(data_2011)"
   ]
  },
  {
   "cell_type": "code",
   "execution_count": 3,
   "id": "40998d51",
   "metadata": {},
   "outputs": [],
   "source": [
    "colunas_relevantes = ['LONGITUDE', 'LATITUDE', 'RUBRICA', 'CIDADE']\n",
    "df = df[colunas_relevantes]"
   ]
  },
  {
   "cell_type": "code",
   "execution_count": 4,
   "id": "bbf2600d",
   "metadata": {},
   "outputs": [],
   "source": [
    "import unidecode\n",
    "\n",
    "colunas_padronizadas = ['CIDADE', 'RUBRICA']\n",
    "\n",
    "for col in colunas_padronizadas:\n",
    "    df[col] = (df[col].astype(str)          \n",
    "                         .str.upper()       \n",
    "                         .apply(unidecode.unidecode) \n",
    "                         .str.strip())"
   ]
  },
  {
   "cell_type": "code",
   "execution_count": 5,
   "id": "de014776",
   "metadata": {},
   "outputs": [],
   "source": [
    "df['RUBRICA'] = df['RUBRICA'].str.replace(r\"\\(.*?\\)\", \"\", regex=True).str.strip()\n"
   ]
  },
  {
   "cell_type": "code",
   "execution_count": 6,
   "id": "cf59fcb1",
   "metadata": {},
   "outputs": [],
   "source": [
    "df = df.dropna(subset=['LATITUDE', 'LONGITUDE'])\n",
    "df['RUBRICA'] = df['RUBRICA'].str.replace(r'^A\\.I\\.-', '', regex=True).str.strip()\n"
   ]
  },
  {
   "cell_type": "code",
   "execution_count": 7,
   "id": "96d3fffc",
   "metadata": {},
   "outputs": [],
   "source": [
    "df['LONGITUDE'] = pd.to_numeric(df['LONGITUDE'], errors='coerce')\n",
    "df['LATITUDE'] = pd.to_numeric(df['LATITUDE'], errors='coerce')\n",
    "\n",
    "\n",
    "df = df.dropna(subset=['LONGITUDE', 'LATITUDE'])\n",
    "df = df[(df['LONGITUDE'] != 0) & (df['LATITUDE'] != 0)]"
   ]
  },
  {
   "cell_type": "code",
   "execution_count": 9,
   "id": "52a8043d",
   "metadata": {},
   "outputs": [],
   "source": [
    "#df.to_csv('BO_2011_2_tratado.csv', index=False)"
   ]
  }
 ],
 "metadata": {
  "kernelspec": {
   "display_name": "Python 3",
   "language": "python",
   "name": "python3"
  },
  "language_info": {
   "codemirror_mode": {
    "name": "ipython",
    "version": 3
   },
   "file_extension": ".py",
   "mimetype": "text/x-python",
   "name": "python",
   "nbconvert_exporter": "python",
   "pygments_lexer": "ipython3",
   "version": "3.13.1"
  }
 },
 "nbformat": 4,
 "nbformat_minor": 5
}
