{
 "cells": [
  {
   "cell_type": "code",
   "execution_count": 1,
   "id": "f8d5304f",
   "metadata": {},
   "outputs": [
    {
     "name": "stderr",
     "output_type": "stream",
     "text": [
      "C:\\Users\\Mario\\AppData\\Local\\Temp\\ipykernel_13532\\3933738588.py:5: DtypeWarning: Columns (19,21) have mixed types. Specify dtype option on import or set low_memory=False.\n",
      "  df = pd.read_csv(data)\n"
     ]
    }
   ],
   "source": [
    "import pandas as pd\n",
    "\n",
    "\n",
    "data = r'../data/BO_2016.csv'\n",
    "df = pd.read_csv(data)"
   ]
  },
  {
   "cell_type": "code",
   "execution_count": 2,
   "id": "800a5fe7",
   "metadata": {},
   "outputs": [],
   "source": [
    "colunas_relevantesParaAnalise = ['LONGITUDE', 'LATITUDE','CIDADE','RUBRICA']\n",
    "df =df[colunas_relevantesParaAnalise]"
   ]
  },
  {
   "cell_type": "code",
   "execution_count": 3,
   "id": "2689f478",
   "metadata": {},
   "outputs": [],
   "source": [
    "import unidecode\n",
    "\n",
    "colunas_padronizadas = ['CIDADE', 'RUBRICA']\n",
    "\n",
    "for col in colunas_padronizadas:\n",
    "    df[col] = (df[col].astype(str)          \n",
    "                         .str.upper()       \n",
    "                         .apply(unidecode.unidecode) \n",
    "                         .str.strip())\n"
   ]
  },
  {
   "cell_type": "code",
   "execution_count": 4,
   "id": "e0aaaeeb",
   "metadata": {},
   "outputs": [],
   "source": [
    "df['RUBRICA'] = df['RUBRICA'].str.replace(r\"\\(.*?\\)\", \"\", regex=True).str.strip()\n"
   ]
  },
  {
   "cell_type": "code",
   "execution_count": 5,
   "id": "a2ab3153",
   "metadata": {},
   "outputs": [],
   "source": [
    "# df[df['LATITUDE'].isnull() | df['LONGITUDE'].isnull()].head()\n"
   ]
  },
  {
   "cell_type": "code",
   "execution_count": 6,
   "id": "2ad6c3a9",
   "metadata": {},
   "outputs": [],
   "source": [
    "df = df.dropna(subset=['LATITUDE', 'LONGITUDE'])\n"
   ]
  },
  {
   "cell_type": "code",
   "execution_count": 7,
   "id": "f56b9d96",
   "metadata": {},
   "outputs": [],
   "source": [
    "\n",
    "df['RUBRICA'] = df['RUBRICA'].str.replace(r'^A\\.I\\.-', '', regex=True).str.strip()\n",
    "\n",
    "\n",
    "df['RUBRICA'] = df['RUBRICA'].replace({\n",
    "    'LESAO CORPORAL CULPOSA NA DIRECAO DE VEICULO AUTOMOTOR': 'LESAO CORPORAL',\n",
    "    'LESAO CORPORAL CULPOSA': 'LESAO CORPORAL',\n",
    "    'LESAO CORPORAL DE NATUREZA GRAVE': 'LESAO CORPORAL',\n",
    "    'HOMICIDIO SIMPLES': 'HOMICIDIO',\n",
    "    'HOMICIDIO CULPOSO NA DIRECAO DE VEICULO AUTOMOTOR': 'HOMICIDIO',\n",
    "    'HOMICIDIO QUALIFICADO': 'HOMICIDIO',\n",
    "    'ESTUPRO DE VULNERAVEL': 'ESTUPRO'\n",
    "})\n",
    "\n",
    "\n",
    "\n"
   ]
  },
  {
   "cell_type": "code",
   "execution_count": 8,
   "id": "68b98cb4",
   "metadata": {},
   "outputs": [],
   "source": [
    "#df.to_csv('BO_2016_tratado.csv', index=False)"
   ]
  }
 ],
 "metadata": {
  "kernelspec": {
   "display_name": "Python 3",
   "language": "python",
   "name": "python3"
  },
  "language_info": {
   "codemirror_mode": {
    "name": "ipython",
    "version": 3
   },
   "file_extension": ".py",
   "mimetype": "text/x-python",
   "name": "python",
   "nbconvert_exporter": "python",
   "pygments_lexer": "ipython3",
   "version": "3.13.1"
  }
 },
 "nbformat": 4,
 "nbformat_minor": 5
}
