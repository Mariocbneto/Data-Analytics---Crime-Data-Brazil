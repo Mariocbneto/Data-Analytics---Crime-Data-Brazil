{
 "cells": [
  {
   "cell_type": "code",
   "execution_count": null,
   "id": "0e0db509",
   "metadata": {},
   "outputs": [],
   "source": [
    "import pandas as pd\n",
    "import matplotlib.pyplot as plt\n",
    "import os\n",
    "\n",
    "os.makedirs('../outputs', exist_ok=True)\n",
    "\n",
    "df_2016 = pd.read_csv('../data/BO_2016_tratado.csv')\n",
    "df_2011 = pd.read_csv('../data/BO_2011_2_tratado.csv')\n",
    "\n",
    "contagem_2016 = df_2016['RUBRICA'].value_counts()\n",
    "contagem_2011 = df_2011['RUBRICA'].value_counts()\n",
    "\n",
    "comparacao = pd.concat([contagem_2011, contagem_2016], axis=1)\n",
    "comparacao.columns = ['2011', '2016']\n",
    "comparacao = comparacao.fillna(0)\n",
    "\n",
    "comparacao['DIFERENCA'] = comparacao['2016'] - comparacao['2011']\n",
    "comparacao['VARIACAO_%'] = ((comparacao['DIFERENCA'] / comparacao['2011']) * 100).round(2)\n",
    "\n",
    "# Normalizar para milhares\n",
    "comparacao[['2011','2016']] = comparacao[['2011','2016']] / 1000\n",
    "\n",
    "plt.figure(figsize=(14, max(6, len(comparacao)*0.3)))\n",
    "comparacao[['2011','2016']].plot(kind='barh', figsize=(14, max(6, len(comparacao)*0.3)),\n",
    "                                 color=['steelblue','tomato'])\n",
    "plt.xlabel(\"Quantidade de Ocorrências (milhares)\")\n",
    "plt.ylabel(\"Tipo de Crime\")\n",
    "plt.title(\"Comparação de Crimes 2011 vs 2016 (Todos, em milhares)\")\n",
    "plt.legend()\n",
    "plt.tight_layout()\n",
    "\n",
    "#plt.savefig('../outputs/comparacao_todos_crimes_2011_2016_milhares.png', dpi=300, bbox_inches='tight')\n",
    "plt.show()\n"
   ]
  }
 ],
 "metadata": {
  "kernelspec": {
   "display_name": "Python 3",
   "language": "python",
   "name": "python3"
  },
  "language_info": {
   "codemirror_mode": {
    "name": "ipython",
    "version": 3
   },
   "file_extension": ".py",
   "mimetype": "text/x-python",
   "name": "python",
   "nbconvert_exporter": "python",
   "pygments_lexer": "ipython3",
   "version": "3.13.1"
  }
 },
 "nbformat": 4,
 "nbformat_minor": 5
}
